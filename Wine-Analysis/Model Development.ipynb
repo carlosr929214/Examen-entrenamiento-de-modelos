{
 "cells": [
  {
   "cell_type": "code",
   "execution_count": 250,
   "id": "7f6443cf-690c-4868-a839-ec71986c7490",
   "metadata": {},
   "outputs": [],
   "source": [
    "import pandas as pd\n",
    "import numpy as np\n",
    "import matplotlib.pyplot as plt\n",
    "%matplotlib inline\n",
    "import seaborn as sns"
   ]
  },
  {
   "cell_type": "code",
   "execution_count": 251,
   "id": "7729fcff-3508-40c4-9f93-23221ff99c6e",
   "metadata": {},
   "outputs": [],
   "source": [
    "from sklearn.preprocessing import StandardScaler\n",
    "from sklearn.datasets import make_blobs\n",
    "from sklearn.neural_network import MLPClassifier\n",
    "from sklearn.decomposition import PCA"
   ]
  },
  {
   "cell_type": "code",
   "execution_count": 200,
   "id": "b79cebc2-8fd5-4ad1-b3e1-060a97fab4bc",
   "metadata": {},
   "outputs": [],
   "source": [
    "wine = pd.read_csv('winequalityN.csv')"
   ]
  },
  {
   "cell_type": "code",
   "execution_count": 201,
   "id": "f6d07bed-c5db-4027-b39c-58487c857b3c",
   "metadata": {},
   "outputs": [
    {
     "data": {
      "text/html": [
       "<div>\n",
       "<style scoped>\n",
       "    .dataframe tbody tr th:only-of-type {\n",
       "        vertical-align: middle;\n",
       "    }\n",
       "\n",
       "    .dataframe tbody tr th {\n",
       "        vertical-align: top;\n",
       "    }\n",
       "\n",
       "    .dataframe thead th {\n",
       "        text-align: right;\n",
       "    }\n",
       "</style>\n",
       "<table border=\"1\" class=\"dataframe\">\n",
       "  <thead>\n",
       "    <tr style=\"text-align: right;\">\n",
       "      <th></th>\n",
       "      <th>type</th>\n",
       "      <th>fixed acidity</th>\n",
       "      <th>volatile acidity</th>\n",
       "      <th>citric acid</th>\n",
       "      <th>residual sugar</th>\n",
       "      <th>chlorides</th>\n",
       "      <th>free sulfur dioxide</th>\n",
       "      <th>total sulfur dioxide</th>\n",
       "      <th>density</th>\n",
       "      <th>pH</th>\n",
       "      <th>sulphates</th>\n",
       "      <th>alcohol</th>\n",
       "      <th>quality</th>\n",
       "    </tr>\n",
       "  </thead>\n",
       "  <tbody>\n",
       "    <tr>\n",
       "      <th>0</th>\n",
       "      <td>white</td>\n",
       "      <td>7.0</td>\n",
       "      <td>0.270</td>\n",
       "      <td>0.36</td>\n",
       "      <td>20.7</td>\n",
       "      <td>0.045</td>\n",
       "      <td>45.0</td>\n",
       "      <td>170.0</td>\n",
       "      <td>1.00100</td>\n",
       "      <td>3.00</td>\n",
       "      <td>0.45</td>\n",
       "      <td>8.8</td>\n",
       "      <td>6</td>\n",
       "    </tr>\n",
       "    <tr>\n",
       "      <th>1</th>\n",
       "      <td>white</td>\n",
       "      <td>6.3</td>\n",
       "      <td>0.300</td>\n",
       "      <td>0.34</td>\n",
       "      <td>1.6</td>\n",
       "      <td>0.049</td>\n",
       "      <td>14.0</td>\n",
       "      <td>132.0</td>\n",
       "      <td>0.99400</td>\n",
       "      <td>3.30</td>\n",
       "      <td>0.49</td>\n",
       "      <td>9.5</td>\n",
       "      <td>6</td>\n",
       "    </tr>\n",
       "    <tr>\n",
       "      <th>2</th>\n",
       "      <td>white</td>\n",
       "      <td>8.1</td>\n",
       "      <td>0.280</td>\n",
       "      <td>0.40</td>\n",
       "      <td>6.9</td>\n",
       "      <td>0.050</td>\n",
       "      <td>30.0</td>\n",
       "      <td>97.0</td>\n",
       "      <td>0.99510</td>\n",
       "      <td>3.26</td>\n",
       "      <td>0.44</td>\n",
       "      <td>10.1</td>\n",
       "      <td>6</td>\n",
       "    </tr>\n",
       "    <tr>\n",
       "      <th>3</th>\n",
       "      <td>white</td>\n",
       "      <td>7.2</td>\n",
       "      <td>0.230</td>\n",
       "      <td>0.32</td>\n",
       "      <td>8.5</td>\n",
       "      <td>0.058</td>\n",
       "      <td>47.0</td>\n",
       "      <td>186.0</td>\n",
       "      <td>0.99560</td>\n",
       "      <td>3.19</td>\n",
       "      <td>0.40</td>\n",
       "      <td>9.9</td>\n",
       "      <td>6</td>\n",
       "    </tr>\n",
       "    <tr>\n",
       "      <th>4</th>\n",
       "      <td>white</td>\n",
       "      <td>7.2</td>\n",
       "      <td>0.230</td>\n",
       "      <td>0.32</td>\n",
       "      <td>8.5</td>\n",
       "      <td>0.058</td>\n",
       "      <td>47.0</td>\n",
       "      <td>186.0</td>\n",
       "      <td>0.99560</td>\n",
       "      <td>3.19</td>\n",
       "      <td>0.40</td>\n",
       "      <td>9.9</td>\n",
       "      <td>6</td>\n",
       "    </tr>\n",
       "    <tr>\n",
       "      <th>...</th>\n",
       "      <td>...</td>\n",
       "      <td>...</td>\n",
       "      <td>...</td>\n",
       "      <td>...</td>\n",
       "      <td>...</td>\n",
       "      <td>...</td>\n",
       "      <td>...</td>\n",
       "      <td>...</td>\n",
       "      <td>...</td>\n",
       "      <td>...</td>\n",
       "      <td>...</td>\n",
       "      <td>...</td>\n",
       "      <td>...</td>\n",
       "    </tr>\n",
       "    <tr>\n",
       "      <th>6492</th>\n",
       "      <td>red</td>\n",
       "      <td>6.2</td>\n",
       "      <td>0.600</td>\n",
       "      <td>0.08</td>\n",
       "      <td>2.0</td>\n",
       "      <td>0.090</td>\n",
       "      <td>32.0</td>\n",
       "      <td>44.0</td>\n",
       "      <td>0.99490</td>\n",
       "      <td>3.45</td>\n",
       "      <td>0.58</td>\n",
       "      <td>10.5</td>\n",
       "      <td>5</td>\n",
       "    </tr>\n",
       "    <tr>\n",
       "      <th>6493</th>\n",
       "      <td>red</td>\n",
       "      <td>5.9</td>\n",
       "      <td>0.550</td>\n",
       "      <td>0.10</td>\n",
       "      <td>2.2</td>\n",
       "      <td>0.062</td>\n",
       "      <td>39.0</td>\n",
       "      <td>51.0</td>\n",
       "      <td>0.99512</td>\n",
       "      <td>3.52</td>\n",
       "      <td>NaN</td>\n",
       "      <td>11.2</td>\n",
       "      <td>6</td>\n",
       "    </tr>\n",
       "    <tr>\n",
       "      <th>6494</th>\n",
       "      <td>red</td>\n",
       "      <td>6.3</td>\n",
       "      <td>0.510</td>\n",
       "      <td>0.13</td>\n",
       "      <td>2.3</td>\n",
       "      <td>0.076</td>\n",
       "      <td>29.0</td>\n",
       "      <td>40.0</td>\n",
       "      <td>0.99574</td>\n",
       "      <td>3.42</td>\n",
       "      <td>0.75</td>\n",
       "      <td>11.0</td>\n",
       "      <td>6</td>\n",
       "    </tr>\n",
       "    <tr>\n",
       "      <th>6495</th>\n",
       "      <td>red</td>\n",
       "      <td>5.9</td>\n",
       "      <td>0.645</td>\n",
       "      <td>0.12</td>\n",
       "      <td>2.0</td>\n",
       "      <td>0.075</td>\n",
       "      <td>32.0</td>\n",
       "      <td>44.0</td>\n",
       "      <td>0.99547</td>\n",
       "      <td>3.57</td>\n",
       "      <td>0.71</td>\n",
       "      <td>10.2</td>\n",
       "      <td>5</td>\n",
       "    </tr>\n",
       "    <tr>\n",
       "      <th>6496</th>\n",
       "      <td>red</td>\n",
       "      <td>6.0</td>\n",
       "      <td>0.310</td>\n",
       "      <td>0.47</td>\n",
       "      <td>3.6</td>\n",
       "      <td>0.067</td>\n",
       "      <td>18.0</td>\n",
       "      <td>42.0</td>\n",
       "      <td>0.99549</td>\n",
       "      <td>3.39</td>\n",
       "      <td>0.66</td>\n",
       "      <td>11.0</td>\n",
       "      <td>6</td>\n",
       "    </tr>\n",
       "  </tbody>\n",
       "</table>\n",
       "<p>6497 rows × 13 columns</p>\n",
       "</div>"
      ],
      "text/plain": [
       "       type  fixed acidity  volatile acidity  citric acid  residual sugar  \\\n",
       "0     white            7.0             0.270         0.36            20.7   \n",
       "1     white            6.3             0.300         0.34             1.6   \n",
       "2     white            8.1             0.280         0.40             6.9   \n",
       "3     white            7.2             0.230         0.32             8.5   \n",
       "4     white            7.2             0.230         0.32             8.5   \n",
       "...     ...            ...               ...          ...             ...   \n",
       "6492    red            6.2             0.600         0.08             2.0   \n",
       "6493    red            5.9             0.550         0.10             2.2   \n",
       "6494    red            6.3             0.510         0.13             2.3   \n",
       "6495    red            5.9             0.645         0.12             2.0   \n",
       "6496    red            6.0             0.310         0.47             3.6   \n",
       "\n",
       "      chlorides  free sulfur dioxide  total sulfur dioxide  density    pH  \\\n",
       "0         0.045                 45.0                 170.0  1.00100  3.00   \n",
       "1         0.049                 14.0                 132.0  0.99400  3.30   \n",
       "2         0.050                 30.0                  97.0  0.99510  3.26   \n",
       "3         0.058                 47.0                 186.0  0.99560  3.19   \n",
       "4         0.058                 47.0                 186.0  0.99560  3.19   \n",
       "...         ...                  ...                   ...      ...   ...   \n",
       "6492      0.090                 32.0                  44.0  0.99490  3.45   \n",
       "6493      0.062                 39.0                  51.0  0.99512  3.52   \n",
       "6494      0.076                 29.0                  40.0  0.99574  3.42   \n",
       "6495      0.075                 32.0                  44.0  0.99547  3.57   \n",
       "6496      0.067                 18.0                  42.0  0.99549  3.39   \n",
       "\n",
       "      sulphates  alcohol  quality  \n",
       "0          0.45      8.8        6  \n",
       "1          0.49      9.5        6  \n",
       "2          0.44     10.1        6  \n",
       "3          0.40      9.9        6  \n",
       "4          0.40      9.9        6  \n",
       "...         ...      ...      ...  \n",
       "6492       0.58     10.5        5  \n",
       "6493        NaN     11.2        6  \n",
       "6494       0.75     11.0        6  \n",
       "6495       0.71     10.2        5  \n",
       "6496       0.66     11.0        6  \n",
       "\n",
       "[6497 rows x 13 columns]"
      ]
     },
     "execution_count": 201,
     "metadata": {},
     "output_type": "execute_result"
    }
   ],
   "source": [
    "wine"
   ]
  },
  {
   "cell_type": "markdown",
   "id": "e249d68f-1626-4c94-a36b-2ff8b1801b5e",
   "metadata": {},
   "source": [
    "Segun el dataset de wine, realice las siguientes actividades:\n",
    "- Limpie las variables numericas. (evalue primero si vale la pena estretificar por type), en caso de existir valores atipicos remplece por la media.\n",
    "- Aplique PCA utilizando maximo 5 columnas (evalue si el PCA vale la pena hacer uno para white y otro para red)\n",
    "    - No se debe de usar quality para este ejercicio\n",
    "- Una ves tenga el PCA, aplique un algoritmo de k-means para crear tres perfiles del vino. (explique que significa cada perfil)\n",
    "- Agregue la nueva variable al dateset y elimine las columnas que hayan formado parte de analisis del PCA, tanto para white como para red, en caso que hayan sido entrenamientos distintos.\n",
    "- Crea la varible de respuesta de la siguiente manera:\n",
    "    - if quality >= 5 ? 1 else 0\n",
    "- Elimine la variable quality del dataset\n",
    "- Aplique los siguientes entrenamientos de MLS (evalue primero si vale la pena estretificar por type):\n",
    "    - Regresion Logistica\n",
    "    - NN\n",
    "    - Aroboles de desiciones\n",
    "    - Random Forest\n",
    "- Explique cual de los entrenamientos fue el mejor?"
   ]
  },
  {
   "cell_type": "markdown",
   "id": "2bd8cf5d-2ab9-49f7-80bf-a5b7eb392a18",
   "metadata": {},
   "source": [
    "# RESOLUCIÓN DE EXÁMEN"
   ]
  },
  {
   "cell_type": "markdown",
   "id": "e6b6ae64-00ae-40d8-a7da-c31f40312963",
   "metadata": {},
   "source": [
    "### Ejercicio #1: Limpieza de variables númericas"
   ]
  },
  {
   "cell_type": "markdown",
   "id": "19ec5b06-a916-4457-a86b-336ae32b65a0",
   "metadata": {},
   "source": [
    "#### Tipo de dato de las columnas"
   ]
  },
  {
   "cell_type": "code",
   "execution_count": 183,
   "id": "fbac6038-06f8-4997-8cf5-3a4a42fcad6b",
   "metadata": {},
   "outputs": [
    {
     "data": {
      "text/plain": [
       "type                     object\n",
       "fixed acidity           float64\n",
       "volatile acidity        float64\n",
       "citric acid             float64\n",
       "residual sugar          float64\n",
       "chlorides               float64\n",
       "free sulfur dioxide     float64\n",
       "total sulfur dioxide    float64\n",
       "density                 float64\n",
       "pH                      float64\n",
       "sulphates               float64\n",
       "alcohol                 float64\n",
       "quality                   int64\n",
       "dtype: object"
      ]
     },
     "execution_count": 183,
     "metadata": {},
     "output_type": "execute_result"
    }
   ],
   "source": [
    "wine.dtypes"
   ]
  },
  {
   "cell_type": "markdown",
   "id": "cf754141-5bb5-4315-8cc2-d8b42e7c9f41",
   "metadata": {},
   "source": [
    "####"
   ]
  },
  {
   "cell_type": "markdown",
   "id": "47068bee-1f3e-4f78-97d5-e67eb52628b7",
   "metadata": {},
   "source": [
    "#### En el conteo de los valores númericos de las columnas se puede detectar que hay valores nulos"
   ]
  },
  {
   "cell_type": "code",
   "execution_count": 184,
   "id": "5f7609b6-55ff-4d71-bf60-5378596994b7",
   "metadata": {},
   "outputs": [
    {
     "data": {
      "text/plain": [
       "type                    6497\n",
       "fixed acidity           6487\n",
       "volatile acidity        6489\n",
       "citric acid             6494\n",
       "residual sugar          6495\n",
       "chlorides               6495\n",
       "free sulfur dioxide     6497\n",
       "total sulfur dioxide    6497\n",
       "density                 6497\n",
       "pH                      6488\n",
       "sulphates               6493\n",
       "alcohol                 6497\n",
       "quality                 6497\n",
       "dtype: int64"
      ]
     },
     "execution_count": 184,
     "metadata": {},
     "output_type": "execute_result"
    }
   ],
   "source": [
    "wine.count()"
   ]
  },
  {
   "cell_type": "markdown",
   "id": "a6695479-3074-4da4-bc55-5c552cb8f51f",
   "metadata": {},
   "source": [
    "#### Comprobando si hay valores nulos en las columnas"
   ]
  },
  {
   "cell_type": "code",
   "execution_count": 185,
   "id": "87322351-7976-44ce-8cb7-4f49c6db54bd",
   "metadata": {},
   "outputs": [
    {
     "data": {
      "text/plain": [
       "type                    False\n",
       "fixed acidity            True\n",
       "volatile acidity         True\n",
       "citric acid              True\n",
       "residual sugar           True\n",
       "chlorides                True\n",
       "free sulfur dioxide     False\n",
       "total sulfur dioxide    False\n",
       "density                 False\n",
       "pH                       True\n",
       "sulphates                True\n",
       "alcohol                 False\n",
       "quality                 False\n",
       "dtype: bool"
      ]
     },
     "execution_count": 185,
     "metadata": {},
     "output_type": "execute_result"
    }
   ],
   "source": [
    "wine.isnull().any()"
   ]
  },
  {
   "cell_type": "markdown",
   "id": "ec80efa2-2314-4f54-9772-f49cfae747f2",
   "metadata": {},
   "source": [
    "######"
   ]
  },
  {
   "cell_type": "markdown",
   "id": "399c63d8-596b-479d-a01c-d59360411da7",
   "metadata": {},
   "source": [
    "#### Conteo de datos nulos en las columnas"
   ]
  },
  {
   "cell_type": "code",
   "execution_count": 186,
   "id": "70de6783-9b44-476c-b093-2d3a98dbfc5a",
   "metadata": {},
   "outputs": [
    {
     "data": {
      "text/plain": [
       "type                     0\n",
       "fixed acidity           10\n",
       "volatile acidity         8\n",
       "citric acid              3\n",
       "residual sugar           2\n",
       "chlorides                2\n",
       "free sulfur dioxide      0\n",
       "total sulfur dioxide     0\n",
       "density                  0\n",
       "pH                       9\n",
       "sulphates                4\n",
       "alcohol                  0\n",
       "quality                  0\n",
       "dtype: int64"
      ]
     },
     "execution_count": 186,
     "metadata": {},
     "output_type": "execute_result"
    }
   ],
   "source": [
    "wine.isnull().sum()"
   ]
  },
  {
   "cell_type": "markdown",
   "id": "d1e44d1b-9384-4079-81b3-5248d7d6c2b8",
   "metadata": {},
   "source": [
    "#### "
   ]
  },
  {
   "cell_type": "markdown",
   "id": "f7218bf7-cbf3-4405-a1ad-554915c19d74",
   "metadata": {},
   "source": [
    "#### Valor media de las columnas del DataFrame original"
   ]
  },
  {
   "cell_type": "code",
   "execution_count": 187,
   "id": "c398d0b3-71f5-4008-bd3e-59075a022762",
   "metadata": {},
   "outputs": [
    {
     "name": "stderr",
     "output_type": "stream",
     "text": [
      "C:\\Users\\Usuario\\AppData\\Local\\Temp\\ipykernel_9320\\1224247678.py:1: FutureWarning: Dropping of nuisance columns in DataFrame reductions (with 'numeric_only=None') is deprecated; in a future version this will raise TypeError.  Select only valid columns before calling the reduction.\n",
      "  wine.mean(axis = 0)\n"
     ]
    },
    {
     "data": {
      "text/plain": [
       "fixed acidity             7.216579\n",
       "volatile acidity          0.339691\n",
       "citric acid               0.318722\n",
       "residual sugar            5.444326\n",
       "chlorides                 0.056042\n",
       "free sulfur dioxide      30.525319\n",
       "total sulfur dioxide    115.744574\n",
       "density                   0.994697\n",
       "pH                        3.218395\n",
       "sulphates                 0.531215\n",
       "alcohol                  10.491801\n",
       "quality                   5.818378\n",
       "dtype: float64"
      ]
     },
     "execution_count": 187,
     "metadata": {},
     "output_type": "execute_result"
    }
   ],
   "source": [
    "wine.mean(axis = 0)"
   ]
  },
  {
   "cell_type": "markdown",
   "id": "ad35a2d3-b4f1-42ce-bfd6-33fd2cdecd1a",
   "metadata": {},
   "source": [
    "### Rellenando los valores nulos de las columnas por el valor de la media de sus columnas y creando un nuevo DataFrame"
   ]
  },
  {
   "cell_type": "code",
   "execution_count": 188,
   "id": "165b8f7d-47cf-49e8-bac6-b76c7e0b68c6",
   "metadata": {},
   "outputs": [
    {
     "name": "stderr",
     "output_type": "stream",
     "text": [
      "C:\\Users\\Usuario\\AppData\\Local\\Temp\\ipykernel_9320\\1317728993.py:1: FutureWarning: Dropping of nuisance columns in DataFrame reductions (with 'numeric_only=None') is deprecated; in a future version this will raise TypeError.  Select only valid columns before calling the reduction.\n",
      "  df1= wine.fillna(value=wine.mean())\n"
     ]
    }
   ],
   "source": [
    "df1= wine.fillna(value=wine.mean())"
   ]
  },
  {
   "cell_type": "markdown",
   "id": "78963592-e8d3-4e47-b2fe-ed7621d44bed",
   "metadata": {},
   "source": [
    "#### Comprobando nuevamente si existen valores nulos en las columnas del nuevo DataFrame"
   ]
  },
  {
   "cell_type": "code",
   "execution_count": 189,
   "id": "bbd55b78-c9dc-4d74-b6da-6282ff4e512b",
   "metadata": {},
   "outputs": [
    {
     "data": {
      "text/plain": [
       "type                    0\n",
       "fixed acidity           0\n",
       "volatile acidity        0\n",
       "citric acid             0\n",
       "residual sugar          0\n",
       "chlorides               0\n",
       "free sulfur dioxide     0\n",
       "total sulfur dioxide    0\n",
       "density                 0\n",
       "pH                      0\n",
       "sulphates               0\n",
       "alcohol                 0\n",
       "quality                 0\n",
       "dtype: int64"
      ]
     },
     "execution_count": 189,
     "metadata": {},
     "output_type": "execute_result"
    }
   ],
   "source": [
    "df1.isnull().sum()"
   ]
  },
  {
   "cell_type": "markdown",
   "id": "1a74607a-609a-46d3-9388-0acf9b5e9af6",
   "metadata": {},
   "source": [
    "######"
   ]
  },
  {
   "cell_type": "code",
   "execution_count": 190,
   "id": "3c42b463-35f1-43c5-927d-a2d872ac1c75",
   "metadata": {},
   "outputs": [
    {
     "data": {
      "text/html": [
       "<div>\n",
       "<style scoped>\n",
       "    .dataframe tbody tr th:only-of-type {\n",
       "        vertical-align: middle;\n",
       "    }\n",
       "\n",
       "    .dataframe tbody tr th {\n",
       "        vertical-align: top;\n",
       "    }\n",
       "\n",
       "    .dataframe thead th {\n",
       "        text-align: right;\n",
       "    }\n",
       "</style>\n",
       "<table border=\"1\" class=\"dataframe\">\n",
       "  <thead>\n",
       "    <tr style=\"text-align: right;\">\n",
       "      <th></th>\n",
       "      <th>type</th>\n",
       "      <th>fixed acidity</th>\n",
       "      <th>volatile acidity</th>\n",
       "      <th>citric acid</th>\n",
       "      <th>residual sugar</th>\n",
       "      <th>chlorides</th>\n",
       "      <th>free sulfur dioxide</th>\n",
       "      <th>total sulfur dioxide</th>\n",
       "      <th>density</th>\n",
       "      <th>pH</th>\n",
       "      <th>sulphates</th>\n",
       "      <th>alcohol</th>\n",
       "      <th>quality</th>\n",
       "    </tr>\n",
       "  </thead>\n",
       "  <tbody>\n",
       "    <tr>\n",
       "      <th>0</th>\n",
       "      <td>white</td>\n",
       "      <td>7.0</td>\n",
       "      <td>0.270</td>\n",
       "      <td>0.36</td>\n",
       "      <td>20.7</td>\n",
       "      <td>0.045</td>\n",
       "      <td>45.0</td>\n",
       "      <td>170.0</td>\n",
       "      <td>1.00100</td>\n",
       "      <td>3.00</td>\n",
       "      <td>0.450000</td>\n",
       "      <td>8.8</td>\n",
       "      <td>6</td>\n",
       "    </tr>\n",
       "    <tr>\n",
       "      <th>1</th>\n",
       "      <td>white</td>\n",
       "      <td>6.3</td>\n",
       "      <td>0.300</td>\n",
       "      <td>0.34</td>\n",
       "      <td>1.6</td>\n",
       "      <td>0.049</td>\n",
       "      <td>14.0</td>\n",
       "      <td>132.0</td>\n",
       "      <td>0.99400</td>\n",
       "      <td>3.30</td>\n",
       "      <td>0.490000</td>\n",
       "      <td>9.5</td>\n",
       "      <td>6</td>\n",
       "    </tr>\n",
       "    <tr>\n",
       "      <th>2</th>\n",
       "      <td>white</td>\n",
       "      <td>8.1</td>\n",
       "      <td>0.280</td>\n",
       "      <td>0.40</td>\n",
       "      <td>6.9</td>\n",
       "      <td>0.050</td>\n",
       "      <td>30.0</td>\n",
       "      <td>97.0</td>\n",
       "      <td>0.99510</td>\n",
       "      <td>3.26</td>\n",
       "      <td>0.440000</td>\n",
       "      <td>10.1</td>\n",
       "      <td>6</td>\n",
       "    </tr>\n",
       "    <tr>\n",
       "      <th>3</th>\n",
       "      <td>white</td>\n",
       "      <td>7.2</td>\n",
       "      <td>0.230</td>\n",
       "      <td>0.32</td>\n",
       "      <td>8.5</td>\n",
       "      <td>0.058</td>\n",
       "      <td>47.0</td>\n",
       "      <td>186.0</td>\n",
       "      <td>0.99560</td>\n",
       "      <td>3.19</td>\n",
       "      <td>0.400000</td>\n",
       "      <td>9.9</td>\n",
       "      <td>6</td>\n",
       "    </tr>\n",
       "    <tr>\n",
       "      <th>4</th>\n",
       "      <td>white</td>\n",
       "      <td>7.2</td>\n",
       "      <td>0.230</td>\n",
       "      <td>0.32</td>\n",
       "      <td>8.5</td>\n",
       "      <td>0.058</td>\n",
       "      <td>47.0</td>\n",
       "      <td>186.0</td>\n",
       "      <td>0.99560</td>\n",
       "      <td>3.19</td>\n",
       "      <td>0.400000</td>\n",
       "      <td>9.9</td>\n",
       "      <td>6</td>\n",
       "    </tr>\n",
       "    <tr>\n",
       "      <th>...</th>\n",
       "      <td>...</td>\n",
       "      <td>...</td>\n",
       "      <td>...</td>\n",
       "      <td>...</td>\n",
       "      <td>...</td>\n",
       "      <td>...</td>\n",
       "      <td>...</td>\n",
       "      <td>...</td>\n",
       "      <td>...</td>\n",
       "      <td>...</td>\n",
       "      <td>...</td>\n",
       "      <td>...</td>\n",
       "      <td>...</td>\n",
       "    </tr>\n",
       "    <tr>\n",
       "      <th>6492</th>\n",
       "      <td>red</td>\n",
       "      <td>6.2</td>\n",
       "      <td>0.600</td>\n",
       "      <td>0.08</td>\n",
       "      <td>2.0</td>\n",
       "      <td>0.090</td>\n",
       "      <td>32.0</td>\n",
       "      <td>44.0</td>\n",
       "      <td>0.99490</td>\n",
       "      <td>3.45</td>\n",
       "      <td>0.580000</td>\n",
       "      <td>10.5</td>\n",
       "      <td>5</td>\n",
       "    </tr>\n",
       "    <tr>\n",
       "      <th>6493</th>\n",
       "      <td>red</td>\n",
       "      <td>5.9</td>\n",
       "      <td>0.550</td>\n",
       "      <td>0.10</td>\n",
       "      <td>2.2</td>\n",
       "      <td>0.062</td>\n",
       "      <td>39.0</td>\n",
       "      <td>51.0</td>\n",
       "      <td>0.99512</td>\n",
       "      <td>3.52</td>\n",
       "      <td>0.531215</td>\n",
       "      <td>11.2</td>\n",
       "      <td>6</td>\n",
       "    </tr>\n",
       "    <tr>\n",
       "      <th>6494</th>\n",
       "      <td>red</td>\n",
       "      <td>6.3</td>\n",
       "      <td>0.510</td>\n",
       "      <td>0.13</td>\n",
       "      <td>2.3</td>\n",
       "      <td>0.076</td>\n",
       "      <td>29.0</td>\n",
       "      <td>40.0</td>\n",
       "      <td>0.99574</td>\n",
       "      <td>3.42</td>\n",
       "      <td>0.750000</td>\n",
       "      <td>11.0</td>\n",
       "      <td>6</td>\n",
       "    </tr>\n",
       "    <tr>\n",
       "      <th>6495</th>\n",
       "      <td>red</td>\n",
       "      <td>5.9</td>\n",
       "      <td>0.645</td>\n",
       "      <td>0.12</td>\n",
       "      <td>2.0</td>\n",
       "      <td>0.075</td>\n",
       "      <td>32.0</td>\n",
       "      <td>44.0</td>\n",
       "      <td>0.99547</td>\n",
       "      <td>3.57</td>\n",
       "      <td>0.710000</td>\n",
       "      <td>10.2</td>\n",
       "      <td>5</td>\n",
       "    </tr>\n",
       "    <tr>\n",
       "      <th>6496</th>\n",
       "      <td>red</td>\n",
       "      <td>6.0</td>\n",
       "      <td>0.310</td>\n",
       "      <td>0.47</td>\n",
       "      <td>3.6</td>\n",
       "      <td>0.067</td>\n",
       "      <td>18.0</td>\n",
       "      <td>42.0</td>\n",
       "      <td>0.99549</td>\n",
       "      <td>3.39</td>\n",
       "      <td>0.660000</td>\n",
       "      <td>11.0</td>\n",
       "      <td>6</td>\n",
       "    </tr>\n",
       "  </tbody>\n",
       "</table>\n",
       "<p>6497 rows × 13 columns</p>\n",
       "</div>"
      ],
      "text/plain": [
       "       type  fixed acidity  volatile acidity  citric acid  residual sugar  \\\n",
       "0     white            7.0             0.270         0.36            20.7   \n",
       "1     white            6.3             0.300         0.34             1.6   \n",
       "2     white            8.1             0.280         0.40             6.9   \n",
       "3     white            7.2             0.230         0.32             8.5   \n",
       "4     white            7.2             0.230         0.32             8.5   \n",
       "...     ...            ...               ...          ...             ...   \n",
       "6492    red            6.2             0.600         0.08             2.0   \n",
       "6493    red            5.9             0.550         0.10             2.2   \n",
       "6494    red            6.3             0.510         0.13             2.3   \n",
       "6495    red            5.9             0.645         0.12             2.0   \n",
       "6496    red            6.0             0.310         0.47             3.6   \n",
       "\n",
       "      chlorides  free sulfur dioxide  total sulfur dioxide  density    pH  \\\n",
       "0         0.045                 45.0                 170.0  1.00100  3.00   \n",
       "1         0.049                 14.0                 132.0  0.99400  3.30   \n",
       "2         0.050                 30.0                  97.0  0.99510  3.26   \n",
       "3         0.058                 47.0                 186.0  0.99560  3.19   \n",
       "4         0.058                 47.0                 186.0  0.99560  3.19   \n",
       "...         ...                  ...                   ...      ...   ...   \n",
       "6492      0.090                 32.0                  44.0  0.99490  3.45   \n",
       "6493      0.062                 39.0                  51.0  0.99512  3.52   \n",
       "6494      0.076                 29.0                  40.0  0.99574  3.42   \n",
       "6495      0.075                 32.0                  44.0  0.99547  3.57   \n",
       "6496      0.067                 18.0                  42.0  0.99549  3.39   \n",
       "\n",
       "      sulphates  alcohol  quality  \n",
       "0      0.450000      8.8        6  \n",
       "1      0.490000      9.5        6  \n",
       "2      0.440000     10.1        6  \n",
       "3      0.400000      9.9        6  \n",
       "4      0.400000      9.9        6  \n",
       "...         ...      ...      ...  \n",
       "6492   0.580000     10.5        5  \n",
       "6493   0.531215     11.2        6  \n",
       "6494   0.750000     11.0        6  \n",
       "6495   0.710000     10.2        5  \n",
       "6496   0.660000     11.0        6  \n",
       "\n",
       "[6497 rows x 13 columns]"
      ]
     },
     "execution_count": 190,
     "metadata": {},
     "output_type": "execute_result"
    }
   ],
   "source": [
    "df1"
   ]
  },
  {
   "cell_type": "markdown",
   "id": "d31a48b5-09a2-4e08-aa96-7fe542f972e3",
   "metadata": {},
   "source": [
    "### Ejercicio #2: Aplicando PCA (Máximo 5 columnas)"
   ]
  },
  {
   "cell_type": "markdown",
   "id": "f798fe02-eed0-4c11-9bfc-d684d57410db",
   "metadata": {},
   "source": [
    "#### ******No usar la columna quality"
   ]
  },
  {
   "cell_type": "markdown",
   "id": "07b6083e-7650-4a05-a261-daff185b6328",
   "metadata": {},
   "source": [
    "###### Dividimos los datos de las columnas"
   ]
  },
  {
   "cell_type": "code",
   "execution_count": 240,
   "id": "12cd344b-f993-4dae-b5a9-9c60eedcdc60",
   "metadata": {},
   "outputs": [],
   "source": [
    "X = df1.iloc[:,1:11].values\n",
    "y = df1.iloc[:,0].values"
   ]
  },
  {
   "cell_type": "markdown",
   "id": "918045ba-6e0b-4e6a-8f67-323b4d67f32a",
   "metadata": {},
   "source": [
    "###### Normalizamos los datos"
   ]
  },
  {
   "cell_type": "code",
   "execution_count": 241,
   "id": "af8762b2-75e5-48cb-9d89-fe3f634a3b26",
   "metadata": {},
   "outputs": [],
   "source": [
    "X_std = StandardScaler().fit_transform(X)"
   ]
  },
  {
   "cell_type": "markdown",
   "id": "379d7481-87f8-4b0b-9e1c-76332cbbf67d",
   "metadata": {},
   "source": [
    "###### Mandamos a imprimir la matriz de covarianza que nos dara la medida de dispersion de los valores"
   ]
  },
  {
   "cell_type": "code",
   "execution_count": 243,
   "id": "7b41180e-a87c-41af-a608-895cacd21848",
   "metadata": {},
   "outputs": [
    {
     "data": {
      "text/plain": [
       "array([[ 1.00015394,  0.21995179,  0.32339831, -0.1122366 ,  0.29832757,\n",
       "        -0.28328082, -0.32945956,  0.45901197, -0.25172162,  0.30027141],\n",
       "       [ 0.21995179,  1.00015394, -0.37781694, -0.19660781,  0.37717969,\n",
       "        -0.35310905, -0.41476972,  0.27114848,  0.26032309,  0.22534806],\n",
       "       [ 0.32339831, -0.37781694,  1.00015394,  0.14247313,  0.03931562,\n",
       "         0.13344672,  0.1951784 ,  0.09632231, -0.32840469,  0.05757267],\n",
       "       [-0.1122366 , -0.19660781,  0.14247313,  1.00015394, -0.12890662,\n",
       "         0.40330361,  0.49578046,  0.55257189, -0.26675823, -0.18574496],\n",
       "       [ 0.29832757,  0.37717969,  0.03931562, -0.12890662,  1.00015394,\n",
       "        -0.19500773, -0.27959052,  0.36263604,  0.04476053,  0.39513374],\n",
       "       [-0.28328082, -0.35310905,  0.13344672,  0.40330361, -0.19500773,\n",
       "         1.00015394,  0.72104506,  0.0257208 , -0.14513788, -0.18849983],\n",
       "       [-0.32945956, -0.41476972,  0.1951784 ,  0.49578046, -0.27959052,\n",
       "         0.72104506,  1.00015394,  0.0323995 , -0.23755907, -0.27533381],\n",
       "       [ 0.45901197,  0.27114848,  0.09632231,  0.55257189,  0.36263604,\n",
       "         0.0257208 ,  0.0323995 ,  1.00015394,  0.01191492,  0.25947167],\n",
       "       [-0.25172162,  0.26032309, -0.32840469, -0.26675823,  0.04476053,\n",
       "        -0.14513788, -0.23755907,  0.01191492,  1.00015394,  0.1911049 ],\n",
       "       [ 0.30027141,  0.22534806,  0.05757267, -0.18574496,  0.39513374,\n",
       "        -0.18849983, -0.27533381,  0.25947167,  0.1911049 ,  1.00015394]])"
      ]
     },
     "execution_count": 243,
     "metadata": {},
     "output_type": "execute_result"
    }
   ],
   "source": [
    "np.cov(X_std.T)"
   ]
  },
  {
   "cell_type": "markdown",
   "id": "89050183-bb89-4102-9e62-22aa4e8e4328",
   "metadata": {},
   "source": [
    "###### Calculamos los autovalores y autovectores de la matriz de covarianza"
   ]
  },
  {
   "cell_type": "code",
   "execution_count": 247,
   "id": "26797e18-0f51-47ff-9ff7-1912d6fa317c",
   "metadata": {},
   "outputs": [
    {
     "name": "stdout",
     "output_type": "stream",
     "text": [
      "Eigenvectors \n",
      "[[-0.26763264 -0.43177343  0.31765597  0.43031601 -0.17314496 -0.1238023\n",
      "   0.36737136 -0.11191303  0.43012682  0.27940254]\n",
      " [-0.39353247 -0.01695375 -0.34820128  0.0398547  -0.26225971  0.09257291\n",
      "  -0.62793457  0.27619833  0.39218985  0.14234509]\n",
      " [ 0.1399779  -0.36161219  0.49393602 -0.08715355  0.28460626  0.1435744\n",
      "  -0.48902952 -0.19767058  0.23203157 -0.40545994]\n",
      " [ 0.31131848 -0.37887359 -0.35591854  0.54786365 -0.25309896  0.20796128\n",
      "  -0.16896843 -0.23227272 -0.36417211 -0.10135961]\n",
      " [-0.32195188 -0.2831634  -0.10505985  0.16561002  0.2442546  -0.06194168\n",
      "   0.20819364  0.60848928 -0.17391544 -0.51995555]\n",
      " [ 0.42182088 -0.11560352 -0.22475164 -0.04095508  0.32424461  0.56538699\n",
      "   0.22655615  0.28878367  0.3862928   0.21856236]\n",
      " [ 0.475331   -0.12903154 -0.17954931  0.07668443  0.18756492 -0.75969726\n",
      "  -0.15490915  0.18781279  0.18874336  0.10989889]\n",
      " [-0.10785417 -0.55229978 -0.37475096 -0.63977099 -0.13404758 -0.0864581\n",
      "   0.18219005 -0.26505078  0.03143884 -0.06090925]\n",
      " [-0.20502955  0.28450307 -0.41449412  0.24416582  0.39538867 -0.06410101\n",
      "   0.1142408  -0.49767109  0.34464608 -0.32503697]\n",
      " [-0.30951072 -0.20689084 -0.03416544  0.03976232  0.61798417  0.00431845\n",
      "  -0.19525101 -0.10634096 -0.37397323  0.53613483]]\n",
      "\n",
      "Eigenvalues \n",
      "[3.01488323 2.09938321 1.43030651 0.09767527 0.96267172 0.25019397\n",
      " 0.36838782 0.71045614 0.52136715 0.5462144 ]\n"
     ]
    }
   ],
   "source": [
    "cov_mat = np.cov(X_std.T)\n",
    "\n",
    "eig_vals, eig_vecs = np.linalg.eig(cov_mat)\n",
    "\n",
    "print('Eigenvectors \\n%s' %eig_vecs)\n",
    "print('\\nEigenvalues \\n%s' %eig_vals)"
   ]
  },
  {
   "cell_type": "markdown",
   "id": "8ce871a5-5330-44db-9f75-d7c86cf4e6ba",
   "metadata": {},
   "source": [
    "##### Calculamos la varianza explicada"
   ]
  },
  {
   "cell_type": "code",
   "execution_count": 248,
   "id": "5a799371-6fc1-4423-9d02-d3e79c3af463",
   "metadata": {},
   "outputs": [],
   "source": [
    "tot = sum(eig_vals)\n",
    "var_exp = [(i / tot)*100 for i in sorted(eig_vals, reverse=True)]\n",
    "cum_var_exp = np.cumsum(var_exp)"
   ]
  },
  {
   "cell_type": "markdown",
   "id": "17229717-a0ab-4ee7-a477-154b9129d5c9",
   "metadata": {},
   "source": [
    "###### Representamos en un diagrama de barras la varianza explicada"
   ]
  },
  {
   "cell_type": "code",
   "execution_count": 276,
   "id": "72ca4a8e-4777-4599-be37-9694d060d6da",
   "metadata": {},
   "outputs": [
    {
     "data": {
      "image/png": "[encoded data removed]",
      "text/plain": [
       "<Figure size 432x288 with 1 Axes>"
      ]
     },
     "metadata": {
      "needs_background": "light"
     },
     "output_type": "display_data"
    }
   ],
   "source": [
    "with plt.style.context('seaborn-pastel'):\n",
    "    plt.figure(figsize=(6, 4))\n",
    "\n",
    "    plt.bar(range(1), var_exp, alpha=0.5, align='center',\n",
    "            label='Varianza individual explicada', color='g')\n",
    "    plt.step(range(10), cum_var_exp, where='mid', linestyle='--', label='Varianza explicada acumulada')\n",
    "    plt.ylabel('Ratio de Varianza Explicada')\n",
    "    plt.xlabel('Componentes Principales')\n",
    "    plt.tight_layout()"
   ]
  },
  {
   "cell_type": "code",
   "execution_count": 267,
   "id": "e7177908-bf1c-4c12-a948-7d5ffb63a344",
   "metadata": {},
   "outputs": [
    {
     "data": {
      "image/png": "[encoded data removed]",
      "text/plain": [
       "<Figure size 720x432 with 1 Axes>"
      ]
     },
     "metadata": {
      "needs_background": "light"
     },
     "output_type": "display_data"
    }
   ],
   "source": [
    "fig = plt.figure (figsize=(10,6))\n",
    "plt.scatter(var_exp, cum_var_exp,\n",
    "            marker=\"8\", s=150, color=\"red\", alpha=0.9)\n",
    "\n",
    "plt.xlabel(\"Ratio de Varianza Explicada\", fontsize=20, color=\"darkblue\")\n",
    "plt.ylabel(\"Componentes Principales\", fontsize=20, color=\"darkblue\")\n",
    "plt.title('PCA de componentes', fontsize=25, color=\"darkblue\")\n",
    "\n",
    "plt.show()"
   ]
  },
  {
   "cell_type": "code",
   "execution_count": 287,
   "id": "704de322-d76b-4756-be00-3690483cca79",
   "metadata": {},
   "outputs": [
    {
     "data": {
      "image/png": "[encoded data removed]",
      "text/plain": [
       "<Figure size 432x288 with 1 Axes>"
      ]
     },
     "metadata": {},
     "output_type": "display_data"
    }
   ],
   "source": [
    "with plt.style.context('seaborn-whitegrid'):\n",
    "    plt.figure(figsize=(6, 4))\n",
    "    for lab, col in zip(('fixed acidity', 'volatile acidity', 'citric acid'),\n",
    "                        ('magenta', 'cyan', 'limegreen')):\n",
    "        plt.scatter(var_exp, cum_var_exp,\n",
    "           \n",
    "            label=lab,\n",
    "                    c=col)\n",
    "    plt.xlabel('Componente Principal 1')\n",
    "    plt.ylabel('Componente Principal 2')\n",
    "    ##plt.legend(loc='lower center')\n",
    "    plt.tight_layout()\n",
    "    plt.show()  "
   ]
  }
 ],
 "metadata": {
  "kernelspec": {
   "display_name": "Python 3 (ipykernel)",
   "language": "python",
   "name": "python3"
  },
  "language_info": {
   "codemirror_mode": {
    "name": "ipython",
    "version": 3
   },
   "file_extension": ".py",
   "mimetype": "text/x-python",
   "name": "python",
   "nbconvert_exporter": "python",
   "pygments_lexer": "ipython3",
   "version": "3.9.12"
  }
 },
 "nbformat": 4,
 "nbformat_minor": 5
}
